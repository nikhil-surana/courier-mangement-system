{
 "cells": [
  {
   "cell_type": "markdown",
   "metadata": {},
   "source": [
    "# PYTHON MINI PROJECT"
   ]
  },
  {
   "cell_type": "markdown",
   "metadata": {},
   "source": [
    "#### Q1. Create a Dictionary of lists to store the information of shipments given in the table"
   ]
  },
  {
   "cell_type": "code",
   "execution_count": 2,
   "metadata": {},
   "outputs": [
    {
     "name": "stdout",
     "output_type": "stream",
     "text": [
      "{101: [1, 3, '14-03-2020', '25-03-2020', 'Area1', 'Area6', 'Delivered', 198], 102: [4, 1, '18-06-2020', '09-07-2020', 'Area2', 'Area4', 'Delivered', 275], 103: [2, 3, '01-12-2020', 'Null', 'Area5', 'Area1', 'In-Transit', 200], 104: [1, 5, '23-06-2020', '25-06-2020', 'Area1', 'Area4', 'Delivered', 314], 105: [3, 4, '29-08-2020', '10-09-2020', 'Area5', 'Area3', 'Delivered', 275], 106: [5, 2, '28-06-2020', 'Null', 'Area3', 'Area1', 'In-Transit', 270]}\n"
     ]
    }
   ],
   "source": [
    "shipments={  101 : [1, 3, '14-03-2020', '25-03-2020', 'Area1', 'Area6', 'Delivered',  198], \n",
    "             102 : [4, 1, '18-06-2020', '09-07-2020', 'Area2', 'Area4', 'Delivered',  275],\n",
    "             103 : [2, 3, '01-12-2020', 'Null',       'Area5', 'Area1', 'In-Transit', 200],\n",
    "             104 : [1, 5, '23-06-2020', '25-06-2020', 'Area1', 'Area4', 'Delivered',  314],\n",
    "             105 : [3, 4, '29-08-2020', '10-09-2020', 'Area5', 'Area3', 'Delivered',  275],\n",
    "             106 : [5, 2, '28-06-2020', 'Null',       'Area3', 'Area1', 'In-Transit', 270]\n",
    "            }\n",
    "\n",
    "print(shipments)"
   ]
  },
  {
   "cell_type": "markdown",
   "metadata": {},
   "source": [
    "#### Q2. Create a Dictionary  to store the information of clients given in the table."
   ]
  },
  {
   "cell_type": "code",
   "execution_count": 3,
   "metadata": {},
   "outputs": [
    {
     "name": "stdout",
     "output_type": "stream",
     "text": [
      "{1: 'Phillip', 2: 'Omega III', 3: 'Ramya', 4: 'Romesh', 5: 'John'}\n"
     ]
    }
   ],
   "source": [
    "clients = {1 : 'Phillip', \n",
    "           2 : 'Omega III',\n",
    "           3 : 'Ramya',\n",
    "           4 : 'Romesh',\n",
    "           5 : 'John'\n",
    "          }\n",
    "print(clients)"
   ]
  },
  {
   "cell_type": "markdown",
   "metadata": {},
   "source": [
    "#### Q3. Write a code to replace client’s id with their respective name in shipment dictionary using a loop and dictionary comprehension "
   ]
  },
  {
   "cell_type": "code",
   "execution_count": 4,
   "metadata": {},
   "outputs": [
    {
     "name": "stdout",
     "output_type": "stream",
     "text": [
      "{101: ['Phillip', 'Ramya', '14-03-2020', '25-03-2020', 'Area1', 'Area6', 'Delivered', 198], 102: ['Romesh', 'Phillip', '18-06-2020', '09-07-2020', 'Area2', 'Area4', 'Delivered', 275], 103: ['Omega III', 'Ramya', '01-12-2020', 'Null', 'Area5', 'Area1', 'In-Transit', 200], 104: ['Phillip', 'John', '23-06-2020', '25-06-2020', 'Area1', 'Area4', 'Delivered', 314], 105: ['Ramya', 'Romesh', '29-08-2020', '10-09-2020', 'Area5', 'Area3', 'Delivered', 275], 106: ['John', 'Omega III', '28-06-2020', 'Null', 'Area3', 'Area1', 'In-Transit', 270]}\n"
     ]
    }
   ],
   "source": [
    "# for i in shipments.values():\n",
    "#     i[0]=client[i[0]]\n",
    "#     i[1]=client[i[1]]\n",
    "shipments={ i:[clients[j[0]],clients[j[1]]] +j[2:] for i,j in shipments.items()}\n",
    "print(shipments)"
   ]
  },
  {
   "cell_type": "markdown",
   "metadata": {},
   "source": [
    "#### Q4. Print  all shipment details that are sent by Phillip"
   ]
  },
  {
   "cell_type": "code",
   "execution_count": 5,
   "metadata": {},
   "outputs": [
    {
     "name": "stdout",
     "output_type": "stream",
     "text": [
      "\n",
      "Shipment ID:  101 \n",
      "Details: ['Phillip', 'Ramya', '14-03-2020', '25-03-2020', 'Area1', 'Area6', 'Delivered', 198]\n",
      "\n",
      "Shipment ID:  104 \n",
      "Details: ['Phillip', 'John', '23-06-2020', '25-06-2020', 'Area1', 'Area4', 'Delivered', 314]\n"
     ]
    }
   ],
   "source": [
    "for key, value in shipments.items():\n",
    "    if value[0]=='Phillip':\n",
    "        print('\\nShipment ID: ',key,'\\nDetails:',value)"
   ]
  },
  {
   "cell_type": "markdown",
   "metadata": {},
   "source": [
    "#### Q5. Print all shipment details that are received by Ramya"
   ]
  },
  {
   "cell_type": "code",
   "execution_count": 5,
   "metadata": {},
   "outputs": [
    {
     "name": "stdout",
     "output_type": "stream",
     "text": [
      "\n",
      "Shipment ID:  101 \n",
      "Details: ['Phillip', 'Ramya', '14-03-2020', '25-03-2020', 'Area1', 'Area6', 'Delivered', 198]\n",
      "\n",
      "Shipment ID:  103 \n",
      "Details: ['Omega III', 'Ramya', '01-12-2020', 'Null', 'Area5', 'Area1', 'In-Transit', 200]\n"
     ]
    }
   ],
   "source": [
    "for key, value in shipments.items():\n",
    "    if value[1]=='Ramya':\n",
    "        print('\\nShipment ID: ',key,'\\nDetails:',value)"
   ]
  },
  {
   "cell_type": "markdown",
   "metadata": {},
   "source": [
    "#### Q6. Print all shipments which are in 'In-Transit' status"
   ]
  },
  {
   "cell_type": "code",
   "execution_count": 6,
   "metadata": {
    "scrolled": true
   },
   "outputs": [
    {
     "name": "stdout",
     "output_type": "stream",
     "text": [
      "\n",
      "Shipment ID:  103 \n",
      "Details: ['Omega III', 'Ramya', '01-12-2020', 'Null', 'Area5', 'Area1', 'In-Transit', 200]\n",
      "\n",
      "Shipment ID:  106 \n",
      "Details: ['John', 'Omega III', '28-06-2020', 'Null', 'Area3', 'Area1', 'In-Transit', 270]\n"
     ]
    }
   ],
   "source": [
    "for key, value in shipments.items():\n",
    "    if value[-2]=='In-Transit':\n",
    "        print('\\nShipment ID: ',key,'\\nDetails:',value)"
   ]
  },
  {
   "cell_type": "markdown",
   "metadata": {},
   "source": [
    "#### Q7. Print all shipments which are delivered within 7 days of courier Start date\n",
    "\n"
   ]
  },
  {
   "cell_type": "code",
   "execution_count": 7,
   "metadata": {},
   "outputs": [
    {
     "name": "stdout",
     "output_type": "stream",
     "text": [
      "\n",
      "Shipment ID:  104 \n",
      "Details: ['Phillip', 'John', '23-06-2020', '25-06-2020', 'Area1', 'Area4', 'Delivered', 314]\n"
     ]
    }
   ],
   "source": [
    "from datetime import datetime\n",
    "for key, value in shipments.items():\n",
    "    if value[3] != 'Null':\n",
    "        if (datetime.strptime(value[3],'%d-%m-%Y')-datetime.strptime(value[2],'%d-%m-%Y')).days <=7:\n",
    "            print('\\nShipment ID: ',key,'\\nDetails:',value)"
   ]
  },
  {
   "cell_type": "markdown",
   "metadata": {},
   "source": [
    "#### Q8. Print all shipments which are delivered after 15 days of courier start date or not yet been delivered.\n",
    "\n"
   ]
  },
  {
   "cell_type": "code",
   "execution_count": 8,
   "metadata": {},
   "outputs": [
    {
     "name": "stdout",
     "output_type": "stream",
     "text": [
      "\n",
      "Shipment ID:  102 \n",
      "Details: ['Romesh', 'Phillip', '18-06-2020', '09-07-2020', 'Area2', 'Area4', 'Delivered', 275]\n",
      "\n",
      "Shipment ID:  103 \n",
      "Details: ['Omega III', 'Ramya', '01-12-2020', 'Null', 'Area5', 'Area1', 'In-Transit', 200]\n",
      "\n",
      "Shipment ID:  106 \n",
      "Details: ['John', 'Omega III', '28-06-2020', 'Null', 'Area3', 'Area1', 'In-Transit', 270]\n"
     ]
    }
   ],
   "source": [
    "from datetime import datetime\n",
    "for key, value in shipments.items():\n",
    "    if value[3] != 'Null':\n",
    "        if (datetime.strptime(value[3],'%d-%m-%Y')-datetime.strptime(value[2],'%d-%m-%Y')).days >=15:\n",
    "            print('\\nShipment ID: ',key,'\\nDetails:',value)     \n",
    "    else:\n",
    "             print('\\nShipment ID: ',key,'\\nDetails:',value)"
   ]
  },
  {
   "cell_type": "markdown",
   "metadata": {},
   "source": [
    "#### Q9. Write a function find_all_routes to display all possible routes from senders location to receivers location given in the dictionary for each shipment.\n"
   ]
  },
  {
   "cell_type": "code",
   "execution_count": 9,
   "metadata": {},
   "outputs": [
    {
     "name": "stdout",
     "output_type": "stream",
     "text": [
      "Shipment id:  101\n",
      "Sender's location:  1\n",
      "Reciever's location:  6\n",
      "ALL Avalable routes: \n",
      "[1, 6]\n",
      "Shipment id:  102\n",
      "Sender's location:  2\n",
      "Reciever's location:  4\n",
      "ALL Avalable routes: \n",
      "[2, 3, 4]\n",
      "[2, 4]\n",
      "Shipment id:  103\n",
      "Sender's location:  5\n",
      "Reciever's location:  1\n",
      "ALL Avalable routes: \n",
      "[5, 4, 2, 1]\n",
      "[5, 4, 3, 2, 1]\n",
      "Shipment id:  104\n",
      "Sender's location:  1\n",
      "Reciever's location:  4\n",
      "ALL Avalable routes: \n",
      "[1, 2, 3, 4]\n",
      "[1, 2, 4]\n",
      "Shipment id:  105\n",
      "Sender's location:  5\n",
      "Reciever's location:  3\n",
      "ALL Avalable routes: \n",
      "[5, 4, 2, 3]\n",
      "[5, 4, 3]\n",
      "Shipment id:  106\n",
      "Sender's location:  3\n",
      "Reciever's location:  1\n",
      "ALL Avalable routes: \n",
      "[3, 2, 1]\n",
      "[3, 4, 2, 1]\n"
     ]
    }
   ],
   "source": [
    "def findroutes(mat,srs,des,visit,route):\n",
    "    visit[srs]=True\n",
    "    route.append(srs+1)\n",
    "    if srs==des:\n",
    "        print(route)\n",
    "    else:\n",
    "        for i in range(6):\n",
    "            if mat[srs][i]==1 and visit[i]==False:\n",
    "                findroutes(mat,i,des,visit,route)\n",
    "    \n",
    "    route.pop()\n",
    "    visit[srs]=False\n",
    "\n",
    "#****************************************************************************************************************\n",
    "path=[[0,1,0,0,0,1],[1,0,1,1,0,0],[0,1,0,1,0,0],[0,1,1,0,1,0],[0,0,0,1,0,0],[1,0,0,0,0,0]]\n",
    "visit=[False for i in range(6)]\n",
    "route=[]\n",
    "\n",
    "for i in shipments:\n",
    "    print('Shipment id: ',i)\n",
    "    source=int(shipments[i][4][-1])\n",
    "    print(\"Sender's location: \",source)\n",
    "    desti=int(shipments[i][5][-1])\n",
    "    print(\"Reciever's location: \",desti)\n",
    "    print('ALL Avalable routes: ')\n",
    "    findroutes(path,source-1,desti-1,visit,route)"
   ]
  }
 ],
 "metadata": {
  "kernelspec": {
   "display_name": "Python 3",
   "language": "python",
   "name": "python3"
  },
  "language_info": {
   "codemirror_mode": {
    "name": "ipython",
    "version": 3
   },
   "file_extension": ".py",
   "mimetype": "text/x-python",
   "name": "python",
   "nbconvert_exporter": "python",
   "pygments_lexer": "ipython3",
   "version": "3.8.5"
  }
 },
 "nbformat": 4,
 "nbformat_minor": 5
}
